{
 "cells": [
  {
   "cell_type": "code",
   "execution_count": 1,
   "metadata": {},
   "outputs": [],
   "source": [
    "import numpy as np\n",
    "import pandas as pd\n",
    "import matplotlib.pyplot as plt\n",
    "import pickle\n",
    "import tqdm"
   ]
  },
  {
   "cell_type": "code",
   "execution_count": 4,
   "metadata": {},
   "outputs": [],
   "source": [
    "# Load in data\n",
    "with open('OQ_lists.pkl', 'rb') as f:\n",
    "    data = pickle.load(f)\n",
    "\n",
    "test = data[0]\n",
    "train = data[1]\n",
    "validate = data[2]"
   ]
  },
  {
   "cell_type": "code",
   "execution_count": 2,
   "metadata": {},
   "outputs": [],
   "source": [
    "from pykalman import KalmanFilter"
   ]
  },
  {
   "cell_type": "code",
   "execution_count": 5,
   "metadata": {},
   "outputs": [],
   "source": [
    "np_train = []\n",
    "for tm in train:\n",
    "    tm_np = np.array(tm)\n",
    "    np_train.append(tm_np)"
   ]
  },
  {
   "cell_type": "code",
   "execution_count": 6,
   "metadata": {},
   "outputs": [],
   "source": [
    "hacky = [np.concatenate([tm, np.ma.masked_equal(np.zeros(100), 0)]) for tm in np_train]\n",
    "hacky = np.concatenate(hacky)"
   ]
  },
  {
   "cell_type": "code",
   "execution_count": 7,
   "metadata": {},
   "outputs": [],
   "source": [
    "val_np = []\n",
    "for val in validate:\n",
    "    val_np.append(np.array(val))"
   ]
  },
  {
   "cell_type": "code",
   "execution_count": 8,
   "metadata": {},
   "outputs": [
    {
     "name": "stdout",
     "output_type": "stream",
     "text": [
      "Estimated Transition Matrix (F):\n",
      "[[1. 0. 0. 0. 0.]\n",
      " [0. 1. 0. 0. 0.]\n",
      " [0. 0. 1. 0. 0.]\n",
      " [0. 0. 0. 1. 0.]\n",
      " [0. 0. 0. 0. 1.]]\n",
      "\n",
      "Estimated Observation Matrix (H):\n",
      "[[1. 0. 0. 0. 0.]]\n",
      "\n",
      "Estimated Process Noise Covariance Matrix (Q):\n",
      "[[41.62418218  0.          0.          0.          0.        ]\n",
      " [ 0.          1.          0.          0.          0.        ]\n",
      " [ 0.          0.          1.          0.          0.        ]\n",
      " [ 0.          0.          0.          1.          0.        ]\n",
      " [ 0.          0.          0.          0.          1.        ]]\n",
      "\n",
      "Estimated Observation Noise Covariance Matrix (R):\n",
      "[[37.66090425]]\n"
     ]
    }
   ],
   "source": [
    "# Create a KalmanFilter object\n",
    "kf5 = KalmanFilter(n_dim_state=5,n_dim_obs=1)\n",
    "\n",
    "\n",
    "# Fit the Kalman filter to the observations using EM\n",
    "kf5.em(hacky, n_iter=5)\n",
    "\n",
    "\n",
    "# Retrieve the estimated matrices\n",
    "F5 = kf5.transition_matrices\n",
    "H5 = kf5.observation_matrices\n",
    "Q5 = kf5.transition_covariance\n",
    "R5 = kf5.observation_covariance\n",
    "\n",
    "print(\"Estimated Transition Matrix (F):\")\n",
    "print(F5)\n",
    "\n",
    "print(\"\\nEstimated Observation Matrix (H):\")\n",
    "print(H5)\n",
    "\n",
    "print(\"\\nEstimated Process Noise Covariance Matrix (Q):\")\n",
    "print(Q5)\n",
    "\n",
    "print(\"\\nEstimated Observation Noise Covariance Matrix (R):\")\n",
    "print(R5)"
   ]
  },
  {
   "cell_type": "code",
   "execution_count": 9,
   "metadata": {},
   "outputs": [
    {
     "name": "stdout",
     "output_type": "stream",
     "text": [
      "[75. 91.]\n",
      "[72.34315888]\n",
      "[68. 65. 63. 66. 62. 74. 70. 74. 65. 68. 69. 70. 66.]\n",
      "[60.87650257]\n",
      "[80. 73.]\n",
      "[74.3462729]\n",
      "[82. 83. 90. 85. 79. 77.]\n",
      "[76.75383663]\n",
      "[36. 24. 13. 20. 49. 11. 36. 40. 17. 95. 73. 23. 35.]\n",
      "[24.56187504]\n",
      "[110.  85.  93.  81.]\n",
      "[82.78005403]\n",
      "[68.]\n",
      "[53.46587327]\n",
      "[53. 50. 50. 38. 32.]\n",
      "[33.35171051]\n",
      "[74. 84.]\n",
      "[67.71024424]\n"
     ]
    },
    {
     "name": "stderr",
     "output_type": "stream",
     "text": [
      "/tmp/ipykernel_752/3940146149.py:4: VisibleDeprecationWarning: Creating an ndarray from ragged nested sequences (which is a list-or-tuple of lists-or-tuples-or ndarrays with different lengths or shapes) is deprecated. If you meant to do this, you must specify 'dtype=object' when creating the ndarray.\n",
      "  selected_time_series = np.random.choice(val_np, 9, replace=False)\n"
     ]
    }
   ],
   "source": [
    "# Predict using the Kalman Filter\n",
    "filtered_state_means5, _ = kf5.filter(hacky)\n",
    "# Randomly select nine time series from the validation data\n",
    "selected_time_series = np.random.choice(val_np, 9, replace=False)\n",
    "\n",
    "# Perform prediction for each selected time series\n",
    "for tm in selected_time_series:\n",
    "    hidden_state_mean, _ = kf5.filter(tm)\n",
    "    sample = kf5.sample(1, initial_state=hidden_state_mean[-1])\n",
    "    print(tm)\n",
    "    print(sample[1][0])"
   ]
  },
  {
   "cell_type": "code",
   "execution_count": 10,
   "metadata": {},
   "outputs": [
    {
     "name": "stdout",
     "output_type": "stream",
     "text": [
      "Estimated Transition Matrix (F):\n",
      "[[1. 0. 0. 0. 0. 0. 0.]\n",
      " [0. 1. 0. 0. 0. 0. 0.]\n",
      " [0. 0. 1. 0. 0. 0. 0.]\n",
      " [0. 0. 0. 1. 0. 0. 0.]\n",
      " [0. 0. 0. 0. 1. 0. 0.]\n",
      " [0. 0. 0. 0. 0. 1. 0.]\n",
      " [0. 0. 0. 0. 0. 0. 1.]]\n",
      "\n",
      "Estimated Observation Matrix (H):\n",
      "[[1. 0. 0. 0. 0. 0. 0.]]\n",
      "\n",
      "Estimated Process Noise Covariance Matrix (Q):\n",
      "[[41.62418218  0.          0.          0.          0.          0.\n",
      "   0.        ]\n",
      " [ 0.          1.          0.          0.          0.          0.\n",
      "   0.        ]\n",
      " [ 0.          0.          1.          0.          0.          0.\n",
      "   0.        ]\n",
      " [ 0.          0.          0.          1.          0.          0.\n",
      "   0.        ]\n",
      " [ 0.          0.          0.          0.          1.          0.\n",
      "   0.        ]\n",
      " [ 0.          0.          0.          0.          0.          1.\n",
      "   0.        ]\n",
      " [ 0.          0.          0.          0.          0.          0.\n",
      "   1.        ]]\n",
      "\n",
      "Estimated Observation Noise Covariance Matrix (R):\n",
      "[[37.66090425]]\n",
      "[68. 85. 87. 69.]\n",
      "[82.10122281]\n",
      "[38. 35.]\n",
      "[51.51965706]\n",
      "[80. 85. 70.]\n",
      "[81.42659769]\n",
      "[107.  81.]\n",
      "[61.13620919]\n",
      "[57. 64. 72. 63. 61.]\n",
      "[63.9030961]\n",
      "[73. 71. 75.]\n",
      "[65.54795191]\n",
      "[125.]\n",
      "[56.92432872]\n",
      "[95. 58.]\n",
      "[48.59661164]\n",
      "[97. 59. 94.]\n",
      "[77.38025885]\n"
     ]
    },
    {
     "name": "stderr",
     "output_type": "stream",
     "text": [
      "/tmp/ipykernel_752/1322097300.py:30: VisibleDeprecationWarning: Creating an ndarray from ragged nested sequences (which is a list-or-tuple of lists-or-tuples-or ndarrays with different lengths or shapes) is deprecated. If you meant to do this, you must specify 'dtype=object' when creating the ndarray.\n",
      "  selected_time_series = np.random.choice(val_np, 9, replace=False)\n"
     ]
    }
   ],
   "source": [
    "# Create a KalmanFilter object\n",
    "kf7 = KalmanFilter(n_dim_state=7,n_dim_obs=1)\n",
    "\n",
    "\n",
    "# Fit the Kalman filter to the observations using EM\n",
    "kf7.em(hacky, n_iter=5)\n",
    "\n",
    "\n",
    "# Retrieve the estimated matrices\n",
    "F7 = kf7.transition_matrices\n",
    "H7 = kf7.observation_matrices\n",
    "Q7 = kf7.transition_covariance\n",
    "R7 = kf7.observation_covariance\n",
    "\n",
    "print(\"Estimated Transition Matrix (F):\")\n",
    "print(F7)\n",
    "\n",
    "print(\"\\nEstimated Observation Matrix (H):\")\n",
    "print(H7)\n",
    "\n",
    "print(\"\\nEstimated Process Noise Covariance Matrix (Q):\")\n",
    "print(Q7)\n",
    "\n",
    "print(\"\\nEstimated Observation Noise Covariance Matrix (R):\")\n",
    "print(R7)\n",
    "\n",
    "# Predict using the Kalman Filter\n",
    "filtered_state_means7, _ = kf7.filter(hacky)\n",
    "# Randomly select nine time series from the validation data\n",
    "selected_time_series = np.random.choice(val_np, 9, replace=False)\n",
    "\n",
    "# Perform prediction for each selected time series\n",
    "for tm in selected_time_series:\n",
    "    hidden_state_mean, _ = kf7.filter(tm)\n",
    "    sample = kf7.sample(1, initial_state=hidden_state_mean[-1])\n",
    "    print(tm)\n",
    "    print(sample[1][0])"
   ]
  },
  {
   "cell_type": "code",
   "execution_count": 11,
   "metadata": {},
   "outputs": [
    {
     "name": "stdout",
     "output_type": "stream",
     "text": [
      "Estimated Transition Matrix (F):\n",
      "[[1. 0. 0. 0. 0. 0. 0. 0. 0. 0.]\n",
      " [0. 1. 0. 0. 0. 0. 0. 0. 0. 0.]\n",
      " [0. 0. 1. 0. 0. 0. 0. 0. 0. 0.]\n",
      " [0. 0. 0. 1. 0. 0. 0. 0. 0. 0.]\n",
      " [0. 0. 0. 0. 1. 0. 0. 0. 0. 0.]\n",
      " [0. 0. 0. 0. 0. 1. 0. 0. 0. 0.]\n",
      " [0. 0. 0. 0. 0. 0. 1. 0. 0. 0.]\n",
      " [0. 0. 0. 0. 0. 0. 0. 1. 0. 0.]\n",
      " [0. 0. 0. 0. 0. 0. 0. 0. 1. 0.]\n",
      " [0. 0. 0. 0. 0. 0. 0. 0. 0. 1.]]\n",
      "\n",
      "Estimated Observation Matrix (H):\n",
      "[[1. 0. 0. 0. 0. 0. 0. 0. 0. 0.]]\n",
      "\n",
      "Estimated Process Noise Covariance Matrix (Q):\n",
      "[[41.62418218  0.          0.          0.          0.          0.\n",
      "   0.          0.          0.          0.        ]\n",
      " [ 0.          1.          0.          0.          0.          0.\n",
      "   0.          0.          0.          0.        ]\n",
      " [ 0.          0.          1.          0.          0.          0.\n",
      "   0.          0.          0.          0.        ]\n",
      " [ 0.          0.          0.          1.          0.          0.\n",
      "   0.          0.          0.          0.        ]\n",
      " [ 0.          0.          0.          0.          1.          0.\n",
      "   0.          0.          0.          0.        ]\n",
      " [ 0.          0.          0.          0.          0.          1.\n",
      "   0.          0.          0.          0.        ]\n",
      " [ 0.          0.          0.          0.          0.          0.\n",
      "   1.          0.          0.          0.        ]\n",
      " [ 0.          0.          0.          0.          0.          0.\n",
      "   0.          1.          0.          0.        ]\n",
      " [ 0.          0.          0.          0.          0.          0.\n",
      "   0.          0.          1.          0.        ]\n",
      " [ 0.          0.          0.          0.          0.          0.\n",
      "   0.          0.          0.          1.        ]]\n",
      "\n",
      "Estimated Observation Noise Covariance Matrix (R):\n",
      "[[37.66090425]]\n",
      "[104.  91.  58.  58.  38.  36.  30.  42.  45.  71.  49.]\n",
      "[51.16712248]\n",
      "[87. 84.]\n",
      "[64.68327822]\n",
      "[79. 82.]\n",
      "[75.00045126]\n",
      "[88. 63. 78. 61.]\n",
      "[65.66673064]\n",
      "[72. 65.]\n",
      "[62.66777485]\n",
      "[ 95. 114.  95.  58.  94.  89.  96.  71.  81.  62.  65.  52.  52.  52.\n",
      "  46.  54.]\n",
      "[47.78563324]\n",
      "[ 78. 103.  83.  75.  63.]\n",
      "[60.30598587]\n",
      "[37. 38.]\n",
      "[54.11372217]\n",
      "[69. 84.]\n",
      "[72.08464989]\n"
     ]
    },
    {
     "name": "stderr",
     "output_type": "stream",
     "text": [
      "/tmp/ipykernel_752/759187346.py:30: VisibleDeprecationWarning: Creating an ndarray from ragged nested sequences (which is a list-or-tuple of lists-or-tuples-or ndarrays with different lengths or shapes) is deprecated. If you meant to do this, you must specify 'dtype=object' when creating the ndarray.\n",
      "  selected_time_series = np.random.choice(val_np, 9, replace=False)\n"
     ]
    }
   ],
   "source": [
    "# Create a KalmanFilter object\n",
    "kf10 = KalmanFilter(n_dim_state=10,n_dim_obs=1)\n",
    "\n",
    "\n",
    "# Fit the Kalman filter to the observations using EM\n",
    "kf10.em(hacky, n_iter=5)\n",
    "\n",
    "\n",
    "# Retrieve the estimated matrices\n",
    "F10 = kf10.transition_matrices\n",
    "H10 = kf10.observation_matrices\n",
    "Q10 = kf10.transition_covariance\n",
    "R10 = kf10.observation_covariance\n",
    "\n",
    "print(\"Estimated Transition Matrix (F):\")\n",
    "print(F10)\n",
    "\n",
    "print(\"\\nEstimated Observation Matrix (H):\")\n",
    "print(H10)\n",
    "\n",
    "print(\"\\nEstimated Process Noise Covariance Matrix (Q):\")\n",
    "print(Q10)\n",
    "\n",
    "print(\"\\nEstimated Observation Noise Covariance Matrix (R):\")\n",
    "print(R10)\n",
    "\n",
    "# Predict using the Kalman Filter\n",
    "filtered_state_means10, _ = kf10.filter(hacky)\n",
    "# Randomly select nine time series from the validation data\n",
    "selected_time_series = np.random.choice(val_np, 9, replace=False)\n",
    "\n",
    "# Perform prediction for each selected time series\n",
    "for tm in selected_time_series:\n",
    "    hidden_state_mean, _ = kf10.filter(tm)\n",
    "    sample = kf10.sample(1, initial_state=hidden_state_mean[-1])\n",
    "    print(tm)\n",
    "    print(sample[1][0])"
   ]
  },
  {
   "cell_type": "code",
   "execution_count": 12,
   "metadata": {},
   "outputs": [],
   "source": [
    "import numpy as np\n",
    "import pickle\n",
    "\n",
    "def get_prediction_mse(model, datafile='eval_data.pkl'):\n",
    "    \"\"\"\n",
    "    Given an object (model) that implements a predict function, calculate the MSE using the eval data.\n",
    "    Predict function must take in a numpy array of previous OQs and guess the next one as a float.\n",
    "    \"\"\"\n",
    "    errors = []\n",
    "    \n",
    "    # Load evaluation data\n",
    "    with open(datafile, 'rb') as file:\n",
    "        eval_data_df = pickle.load(file)\n",
    "    \n",
    "    # Iterate over each row in the evaluation data\n",
    "    for _, row in eval_data_df.iterrows():\n",
    "        # Extract previous observations and true next observation\n",
    "        previous_obs = np.array(row['Previous'])\n",
    "        true_next_obs = row['Next']\n",
    "        \n",
    "        # Get predicted next observation from the model\n",
    "        predicted_next_obs = model.predict(previous_obs)\n",
    "        \n",
    "        # Calculate squared error and append to errors list\n",
    "        error = (predicted_next_obs - true_next_obs) ** 2\n",
    "        errors.append(error)\n",
    "    \n",
    "    # Calculate the mean squared error\n",
    "    mse = np.mean(errors)\n",
    "    \n",
    "    return mse\n"
   ]
  },
  {
   "cell_type": "code",
   "execution_count": 15,
   "metadata": {},
   "outputs": [
    {
     "name": "stdout",
     "output_type": "stream",
     "text": [
      "Mean Squared Error 5 dimensions: 350.0620642268017\n",
      "Mean Squared Error 7 dimensions: 351.8625629385364\n",
      "Mean Squared Error 10 dimensions: 348.53526920462696\n"
     ]
    }
   ],
   "source": [
    "class KalmanFilterWrapper:\n",
    "    def __init__(self, kf):\n",
    "        self.kf = kf\n",
    "    \n",
    "    def predict(self, previous_obs):\n",
    "        # Use the Kalman filter object to predict the next observation\n",
    "        hidden_state_mean, _ = self.kf.filter(previous_obs)\n",
    "        predicted_next_obs = self.kf.sample(1, initial_state=hidden_state_mean[-1])[1][0]\n",
    "        return predicted_next_obs\n",
    "\n",
    "\n",
    "\n",
    "# Print the calculated MSE\n",
    "print(\"Mean Squared Error 5 dimensions:\", get_prediction_mse(KalmanFilterWrapper(kf5)))\n",
    "print(\"Mean Squared Error 7 dimensions:\", get_prediction_mse(KalmanFilterWrapper(kf7)))\n",
    "print(\"Mean Squared Error 10 dimensions:\", get_prediction_mse(KalmanFilterWrapper(kf10)))\n"
   ]
  },
  {
   "cell_type": "code",
   "execution_count": null,
   "metadata": {},
   "outputs": [],
   "source": []
  }
 ],
 "metadata": {
  "kernelspec": {
   "display_name": "Python 3 (ipykernel)",
   "language": "python",
   "name": "python3"
  },
  "language_info": {
   "codemirror_mode": {
    "name": "ipython",
    "version": 3
   },
   "file_extension": ".py",
   "mimetype": "text/x-python",
   "name": "python",
   "nbconvert_exporter": "python",
   "pygments_lexer": "ipython3",
   "version": "3.10.12"
  }
 },
 "nbformat": 4,
 "nbformat_minor": 4
}
