{
 "cells": [
  {
   "cell_type": "markdown",
   "metadata": {},
   "source": [
    "# Abstract"
   ]
  },
  {
   "cell_type": "markdown",
   "metadata": {},
   "source": [
    "In this project, we present a mathematical model for optimizing \n",
    "road construction scheduling, focusing on a main road under \n",
    "construction and a detour used to alleviate congestion. The \n",
    "objective is to complete required construction in as short a time as posssible while minimizing added travel time during construction. We use Greenshields equations to model traffic velocity and Pontryagin's Maximum Principle to determine the optimal \n",
    "construction strategy."
   ]
  },
  {
   "cell_type": "markdown",
   "metadata": {},
   "source": [
    "# Background"
   ]
  },
  {
   "cell_type": "markdown",
   "metadata": {},
   "source": [
    "As a construction planner, you need to decide on what \n",
    "schedule to conduct road construction in Utah. You know that \n",
    "your projects significantly impact traffic congestion. The \n",
    "question is how to optimize the construction schedule to \n",
    "minimize disruptions for drivers while maximizing progress on \n",
    "your projects.\n",
    "\n",
    "We investigate a simple version of this problem where we onle consider two roads: the main \n",
    "road experiencing construction and alternate detour that is \n",
    "50% longer. The construction on the main road reduces its \n",
    "maximum density $P_1$\n",
    ", influencing traffic. We identify $\\Omega$ as the \n",
    "amount of construction required to complete the project."
   ]
  },
  {
   "cell_type": "markdown",
   "metadata": {},
   "source": [
    "# Mathematical Representation\n",
    "\n",
    "Probably a mostly analytical/markdowny section with a bunch of latex laying out the math"
   ]
  },
  {
   "cell_type": "markdown",
   "metadata": {},
   "source": [
    "### Cost Functional/Constraints"
   ]
  },
  {
   "cell_type": "markdown",
   "metadata": {},
   "source": []
  },
  {
   "cell_type": "markdown",
   "metadata": {},
   "source": [
    "### Pontryagin's Maximum Principle "
   ]
  },
  {
   "cell_type": "markdown",
   "metadata": {},
   "source": [
    "### Gradient"
   ]
  },
  {
   "cell_type": "markdown",
   "metadata": {},
   "source": [
    "# Solution"
   ]
  },
  {
   "cell_type": "code",
   "execution_count": null,
   "metadata": {},
   "outputs": [],
   "source": [
    "#Import stuff"
   ]
  },
  {
   "cell_type": "markdown",
   "metadata": {},
   "source": [
    "### Method of Characteristics"
   ]
  },
  {
   "cell_type": "markdown",
   "metadata": {},
   "source": [
    "### Ian's Code"
   ]
  },
  {
   "cell_type": "markdown",
   "metadata": {},
   "source": [
    "### Pyclaw"
   ]
  },
  {
   "cell_type": "markdown",
   "metadata": {},
   "source": [
    "# Interpretation"
   ]
  },
  {
   "cell_type": "code",
   "execution_count": null,
   "metadata": {},
   "outputs": [],
   "source": []
  },
  {
   "cell_type": "markdown",
   "metadata": {},
   "source": [
    "# Conclusion"
   ]
  }
 ],
 "metadata": {
  "language_info": {
   "name": "python"
  }
 },
 "nbformat": 4,
 "nbformat_minor": 2
}
