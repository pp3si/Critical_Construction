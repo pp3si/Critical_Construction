{
 "cells": [
  {
   "cell_type": "markdown",
   "metadata": {},
   "source": [
    "# Abstract"
   ]
  },
  {
   "cell_type": "markdown",
   "metadata": {},
   "source": [
    "In this project, we present a mathematical model for optimizing \n",
    "road construction scheduling, focusing on a main road under \n",
    "construction and a detour used to alleviate congestion. The \n",
    "objective is to complete required construction in as short a time as posssible while minimizing added travel time during construction. We use Greenshields equations to model traffic velocity and Pontryagin's Maximum Principle to determine the optimal \n",
    "construction strategy."
   ]
  },
  {
   "cell_type": "markdown",
   "metadata": {},
   "source": [
    "# Background"
   ]
  },
  {
   "cell_type": "markdown",
   "metadata": {},
   "source": [
    "As a construction planner, you need to decide on what \n",
    "schedule to conduct road construction in Utah. You know that \n",
    "your projects significantly impact traffic congestion. The \n",
    "question is how to optimize the construction schedule to \n",
    "minimize disruptions for drivers while maximizing progress on \n",
    "your projects.\n",
    "\n",
    "We investigate a simple version of this problem where we onle consider two roads: the main \n",
    "road experiencing construction and alternate detour that is \n",
    "50% longer. The construction on the main road reduces its \n",
    "maximum density $P_1$\n",
    ", influencing traffic. We identify $\\Omega$ as the \n",
    "amount of construction required to complete the project."
   ]
  },
  {
   "cell_type": "markdown",
   "metadata": {},
   "source": [
    "# Mathematical Representation\n",
    "\n",
    "Probably a mostly analytical/markdowny section with a bunch of latex laying out the math"
   ]
  },
  {
   "cell_type": "markdown",
   "metadata": {},
   "source": [
    "### Cost Functional/Constraints"
   ]
  },
  {
   "cell_type": "markdown",
   "metadata": {},
   "source": []
  },
  {
   "cell_type": "markdown",
   "metadata": {},
   "source": [
    "### Pontryagin's Maximum Principle "
   ]
  },
  {
   "cell_type": "markdown",
   "metadata": {},
   "source": [
    "### Gradient"
   ]
  },
  {
   "cell_type": "markdown",
   "metadata": {},
   "source": [
    "# Solution"
   ]
  },
  {
   "cell_type": "markdown",
   "metadata": {},
   "source": [
    "### Code for Ian's iterative solver thing"
   ]
  },
  {
   "cell_type": "code",
   "execution_count": 1,
   "metadata": {},
   "outputs": [],
   "source": [
    "#Import stuff\n",
    "import numpy as np\n",
    "import matplotlib.pyplot as plt\n",
    "from scipy.integrate import solve_bvp"
   ]
  },
  {
   "cell_type": "code",
   "execution_count": null,
   "metadata": {},
   "outputs": [],
   "source": [
    "#Solve this for 0 using scipy.root and constrain to boundaries \n",
    "def DH_DP1(P1,P2,Drho1_DP1_x0, Drho2_DP1_x0, Drho1_DP1_xf, Drho2_DP1_xf, rho1_x0,rho2_x0, rho1_xf, rho2_xf,V1,V2,omega1,omega2,omega3,):\n",
    "    term1 = omega1*V1*(Drho1_DP1_x0*(1-rho1_x0/P1)-rho1_x0*(Drho1_DP1_x0/P1-rho1_x0/P1**2)\n",
    "                        -Drho1_DP1_xf*(1-rho1_xf/P1)+rho1_xf*(Drho1_DP1_xf/P1-rho1_xf/P1**2))\n",
    "    term2 = omega2*V2*(Drho2_DP1_x0*(1-2*rho2_x0/P2) - Drho1_DP1_xf*(1-2*rho2_x0/P2))\n",
    "\n",
    "    return term1 + term2 - omega3\n",
    "\n",
    "def Drho1and2_DP1(P1,P2, J, V1, V2, epsilon=0.5):\n",
    "    #Define some stuff for notational convenience\n",
    "    D1 = P1*P2*(V1+V2)\n",
    "    D2 = V1*P2-P1*V2*(1+epsilon)\n",
    "\n",
    "    term1 = (P2*(V1+V2)/D2)+(D1*V2*(1+epsilon)/D2)\n",
    "    term2 = ((J+D1/D2)**2 - 4*P1*P2*V1*J/D2)**(-0.5)\n",
    "    term3 = 2*(J+D1/D2)*(P2*(V1+V2)/D2+D1*V2*(1+epsilon)/D2)\n",
    "    term4 = 4*P2*V1*J/D2 + 4*P1*P2*V2*(V1+V2)*(1+epsilon)/D2\n",
    "\n",
    "    #0.5*(1+epsilon)*(-(P2*(V1+V2)/D2))\n",
    "    ret = 0.5*(term1 - term2*(term3 - term4))\n",
    "\n",
    "    return ret, (1+epsilon)*ret\n",
    "\n",
    "def omega3(P1,rho1,rho2,C2=1, Omega=10):\n",
    "    -2*C2*(N3-Omega)"
   ]
  },
  {
   "cell_type": "code",
   "execution_count": null,
   "metadata": {},
   "outputs": [],
   "source": []
  },
  {
   "cell_type": "code",
   "execution_count": 2,
   "metadata": {},
   "outputs": [],
   "source": [
    "@np.vectorize\n",
    "def J_T(t2):\n",
    "    #Allow t to be a float\n",
    "    day = t2 // 24 #Get an integer corresponding to the day of week: Monday=0, Sunday=6\n",
    "    hour = t2 - 24*day #Get the time of day in military time\n",
    "    day = day%7 #For longer-than-a-week timescales\n",
    "\n",
    "    if day < 5:\n",
    "      scale = 1.\n",
    "    if day >= 5:\n",
    "      scale = 0.4\n",
    "    if hour < 5:\n",
    "      return 0\n",
    "    if 5 <= hour <= 14:\n",
    "      return scale*(hour-5)/float(14-5)\n",
    "    if 14 <= hour:\n",
    "      return scale*(1-(hour-14)/float(24-14))"
   ]
  },
  {
   "cell_type": "code",
   "execution_count": 3,
   "metadata": {},
   "outputs": [],
   "source": [
    "n = 50\n",
    "dx = 1./n\n",
    "eps = 0.5\n",
    "V1 = 50\n",
    "V2 = 50/(1+eps)\n",
    "P2 = 50*(1+eps)\n",
    "delta = .001 #Or P2\n",
    "P_max = P2/(1+eps)\n",
    "\n",
    "C1 = 1\n",
    "\n",
    "def ode(t, rho, p): #Rho is a space-discretization of rho_1 and rho_2: n subintervals of each\n",
    "  #The ordering is all the rho_1s, followed by all the (n+1) rho_2s, so there are 2n+2 values indexed from 0 to 2n+1\n",
    "  #p[0] is tf\n",
    "\n",
    "  #Define flux at x=0\n",
    "  #Time in terms of hours since beginning of week (12am between Sunday and Monday is 0)\n",
    "\n",
    "  # rho[rho > P_max] = P_max\n",
    "\n",
    "  @np.vectorize\n",
    "  def J_T(t2):\n",
    "    #Allow t to be a float\n",
    "    day = t2 // 24 #Get an integer corresponding to the day of week: Monday=0, Sunday=6\n",
    "    hour = t2 - 24*day #Get the time of day in military time\n",
    "    day = day%7 #For longer-than-a-week timescales\n",
    "\n",
    "    if day < 5:\n",
    "      scale = 1\n",
    "    if day >= 5:\n",
    "      scale = 0.4\n",
    "    if hour < 5:\n",
    "      return 0\n",
    "    if 5 <= hour <= 14:\n",
    "      return scale*(hour-5)/(14-5)\n",
    "    if 14 <= hour:\n",
    "      return scale*(1-(hour-14)/(24-14))\n",
    "\n",
    "  # print(J_T(np.array([1,2])))\n",
    "\n",
    "  P1 = np.expand_dims(np.sqrt((1-t)*(V1*(rho[n])**2 + V2*(rho[-1])**2)), 0) #Because we replace t with p[0] here, the division by tf cancels\n",
    "  # print(P1.shape)\n",
    "  deltas = np.ones_like(P1)*delta\n",
    "  P1 = np.max(np.concatenate((P1, deltas)), axis=0)\n",
    "  # P_maxes = np.ones_like(P1)*P2/(1+eps)\n",
    "  # # print(P1.shape)\n",
    "  # # print(P1)\n",
    "  # P1 = np.min(np.concatenate((P1, P_maxes)), axis=0)\n",
    "  # print(P1.shape)\n",
    "\n",
    "  #Boundary conditions: Just force rho to the appropriate value here?\n",
    "  #Define x=0 conditions on rho\n",
    "\n",
    "  # # @np.vectorize\n",
    "  # def rho_bound(t3): #rho 1 and 2 at t=t, x=0\n",
    "  #   J = J_T(t3)\n",
    "  #   print\n",
    "  #   d3 = -2*P1*P2*(V1**2) - 2*P1*P2*V1*V2 - P2*(V1**2)*J - P1*V1*V2*J\n",
    "  #   # print(f\"checkpoint {t}\")\n",
    "  #   d2 = 2*(P1**2)*P2*((V1+V2)**2) + P1*(4*P2*(V1**2)+3*P2*V1*V2 + P1*V1*V2 + 2*P1*(V2**2))*J + V1*(P2*V1+P1*V2)*(J**2)\n",
    "  #   d1 = -3*(P1**2)*P2*V1*(V1+V2)*J - P1*V1*(2*P2*V1 + P1*V2)*(J**2)\n",
    "  #   d0 = (P1**2)*P2*(V1**2)*(J**2)\n",
    "  #   D1 = 2*(d2**3) - 9*(d3*d2*d1) + 27*(d3**2)*d0\n",
    "  #   D0 = (d2**2) - 3*d3*d1\n",
    "\n",
    "  #   # assert D1**2 - 4*(D0**3) < 0\n",
    "\n",
    "  #   # D2 = (((-1 + np.sqrt(3)*(0+1j))**2)/4)*(D1 + np.emath.sqrt(D1**2 - 4*(D0**3))/2)**(1/3)\n",
    "  #   rho1_bound = -(d2+2*np.sqrt(D0)*np.cos(4*np.pi/3 + np.arccos(D1/(2*D0**1.5))/3))/(3*d3)\n",
    "  #   # rho1_bound = np.real(-1*(d2+D2+D0/D2)/(3*d3))\n",
    "  #   rho2_bound = (1+eps)*(J - rho1_bound)\n",
    "  #   # print(rho1_bound.shape)\n",
    "  #   # print(rho2_bound.shape)\n",
    "  #   return rho1_bound, rho2_bound\n",
    "\n",
    "  \n",
    "\n",
    "  #Enforce them boundary conditions on entering traffic\n",
    "  # print(type(rho_bound(np.array([1,2]))))\n",
    "  # print(t*p[0])\n",
    "  # print(type(rho_bound(np.array([0,1]))))\n",
    "  rho1_bound, rho2_bound = rho_bound(t*p[0])\n",
    "  assert rho1_bound.shape == rho[0].shape\n",
    "  rho[0] = rho1_bound\n",
    "  rho[n+1] = rho2_bound\n",
    "\n",
    "  d_rho_dx = np.empty_like(rho)\n",
    "  d_rho_dx[0] = (rho[1]-rho[0])/dx #I'm not 100% confident this is the best way to handle endpoints, but here we are for now\n",
    "  d_rho_dx[1:n] = (rho[2:n+1] - rho[:n-1])/(2*dx)\n",
    "  d_rho_dx[n] = (rho[n] - rho[n-1])/dx\n",
    "  d_rho_dx[n+1] = (rho[n+2]-rho[n+1])/dx\n",
    "  d_rho_dx[n+2:-1] = (rho[n+3:] - rho[n+1:-2])/(2*dx)\n",
    "  d_rho_dx[-1] = (rho[-1] - rho[-2])/dx\n",
    "\n",
    "  d_rho_dt = np.empty_like(d_rho_dx)\n",
    "  d_rho_dt[:n+1] = -V1*d_rho_dx[:n+1]*(1-2*rho[:n+1]/P1)\n",
    "  d_rho_dt[n+1:] = -V2*d_rho_dx[n+1:]*(1-2*rho[n+1:]/P2)\n",
    "\n",
    "  assert d_rho_dt.shape == rho.shape\n",
    "  return d_rho_dt"
   ]
  },
  {
   "cell_type": "code",
   "execution_count": 4,
   "metadata": {},
   "outputs": [],
   "source": [
    "#Define initial conditions\n",
    "init_state = np.zeros(2*n+2)/10. #Agrees with space-boundary condition\n",
    "\n",
    "delta = .001 #Or P2\n",
    "#Set up boundary conditions\n",
    "def bcs(ya, yb, p):\n",
    "  #Assume that at tf, C3 = 0 by the condition on it (because P1 is small and positive)\n",
    "  num_cars = np.sum(yb)*dx\n",
    "  P1_tf = delta\n",
    "  return np.concatenate((ya - init_state, np.array([num_cars + C1])))"
   ]
  },
  {
   "cell_type": "code",
   "execution_count": 5,
   "metadata": {},
   "outputs": [
    {
     "name": "stderr",
     "output_type": "stream",
     "text": [
      "/tmp/ipykernel_283544/54886252.py:69: RuntimeWarning: invalid value encountered in arccos\n",
      "  rho1_bound = -(d2+2*np.sqrt(D0)*np.cos(4*np.pi/3 + np.arccos(D1/(2*D0**1.5))/3))/(3*d3)\n"
     ]
    }
   ],
   "source": [
    "#Solve, using guesses\n",
    "t_steps = 200\n",
    "t = np.linspace(0,1,t_steps)\n",
    "y0 = np.ones((2*n+2,t_steps))*.01\n",
    "p0 = np.array([168])\n",
    "res = solve_bvp(ode, bcs, t, y0, p0, max_nodes = 360000)"
   ]
  },
  {
   "cell_type": "markdown",
   "metadata": {},
   "source": [
    "### Method of Characteristics"
   ]
  },
  {
   "cell_type": "markdown",
   "metadata": {},
   "source": [
    "### Ian's Code"
   ]
  },
  {
   "cell_type": "markdown",
   "metadata": {},
   "source": [
    "### Pyclaw"
   ]
  },
  {
   "cell_type": "markdown",
   "metadata": {},
   "source": [
    "# Interpretation"
   ]
  },
  {
   "cell_type": "code",
   "execution_count": null,
   "metadata": {},
   "outputs": [],
   "source": []
  },
  {
   "cell_type": "markdown",
   "metadata": {},
   "source": [
    "# Conclusion"
   ]
  }
 ],
 "metadata": {
  "kernelspec": {
   "display_name": "Python 3",
   "language": "python",
   "name": "python3"
  },
  "language_info": {
   "codemirror_mode": {
    "name": "ipython",
    "version": 3
   },
   "file_extension": ".py",
   "mimetype": "text/x-python",
   "name": "python",
   "nbconvert_exporter": "python",
   "pygments_lexer": "ipython3",
   "version": "3.10.12"
  }
 },
 "nbformat": 4,
 "nbformat_minor": 2
}
